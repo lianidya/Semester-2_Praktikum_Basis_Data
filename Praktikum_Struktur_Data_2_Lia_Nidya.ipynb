{
  "cells": [
    {
      "cell_type": "markdown",
      "metadata": {
        "id": "view-in-github",
        "colab_type": "text"
      },
      "source": [
        "<a href=\"https://colab.research.google.com/github/lianidya/Semester-2_Praktikum_Basis_Data/blob/main/Praktikum_Struktur_Data_2_Lia_Nidya.ipynb\" target=\"_parent\"><img src=\"https://colab.research.google.com/assets/colab-badge.svg\" alt=\"Open In Colab\"/></a>"
      ]
    },
    {
      "cell_type": "markdown",
      "metadata": {
        "id": "pUSkLb287V0e"
      },
      "source": [
        "Latihan 1"
      ]
    },
    {
      "cell_type": "code",
      "execution_count": null,
      "metadata": {
        "colab": {
          "base_uri": "https://localhost:8080/"
        },
        "id": "y2UKXx3W6BfZ",
        "outputId": "43a51c44-5a53-445b-9853-cef7a375af56"
      },
      "outputs": [
        {
          "name": "stdout",
          "output_type": "stream",
          "text": [
            "Masukkan 7 mata kuliah pada hari Jumat:\n",
            "Masukkan mata kuliah ke-1: Praktikum Struktur Data\n",
            "Masukkan mata kuliah ke-2: Biologi\n",
            "Masukkan mata kuliah ke-3: Struktur Data\n",
            "Masukkan mata kuliah ke-4: Basis Data\n",
            "Masukkan mata kuliah ke-5: Aljabar Linier\n",
            "Masukkan mata kuliah ke-6: Praktikum Basis Data\n",
            "Masukkan mata kuliah ke-7: Bahasa Indonesia\n",
            "\n",
            "Daftar Mata Kuliah pada Hari Jumat:\n",
            "1. Praktikum Struktur Data\n",
            "2. Biologi\n",
            "3. Struktur Data\n",
            "4. Basis Data\n",
            "5. Aljabar Linier\n",
            "6. Praktikum Basis Data\n",
            "7. Bahasa Indonesia\n"
          ]
        }
      ],
      "source": [
        "class TaskNode:\n",
        "    def __init__(self, task_name):\n",
        "        self.task_name = task_name\n",
        "        self.next = None\n",
        "\n",
        "class TaskList:\n",
        "    def __init__(self):\n",
        "        self.head = None\n",
        "\n",
        "    def add_task(self, task_name):\n",
        "        new_task = TaskNode(task_name)\n",
        "        if not self.head:\n",
        "            self.head = new_task\n",
        "        else:\n",
        "            current = self.head\n",
        "            while current.next:\n",
        "                current = current.next\n",
        "            current.next = new_task\n",
        "\n",
        "    # Menampilkan daftar mata kuliah\n",
        "    def show_tasks(self):\n",
        "        if not self.head:\n",
        "            print(\"\\nTidak ada mata kuliah pada hari Jumat!\")\n",
        "            return\n",
        "        print(\"\\nDaftar Mata Kuliah pada Hari Jumat:\")\n",
        "        current = self.head\n",
        "        count = 1\n",
        "        while current:\n",
        "            print(f\"{count}. {current.task_name}\")\n",
        "            current = current.next\n",
        "            count += 1\n",
        "\n",
        "# Program Utama (Main)\n",
        "def main():\n",
        "    # Membuat objek daftar mata kuliah\n",
        "    task_list = TaskList()\n",
        "\n",
        "    # Digit terakhir dari NPM Anda\n",
        "    num_tasks = 7  # Ganti sesuai dengan digit terakhir NPM Anda\n",
        "\n",
        "    print(f\"Masukkan {num_tasks} mata kuliah pada hari Jumat:\")\n",
        "\n",
        "    # Loop untuk memasukkan mata kuliah ke dalam Linked List\n",
        "    for i in range(1, num_tasks + 1):\n",
        "        task_name = input(f\"Masukkan mata kuliah ke-{i}: \")\n",
        "        task_list.add_task(task_name)\n",
        "\n",
        "    # Menampilkan hasil daftar mata kuliah\n",
        "    task_list.show_tasks()\n",
        "\n",
        "if __name__ == \"__main__\":\n",
        "    main()\n"
      ]
    },
    {
      "cell_type": "markdown",
      "metadata": {
        "id": "CN3LL_gt7doe"
      },
      "source": [
        "Latihan 2"
      ]
    },
    {
      "cell_type": "code",
      "execution_count": null,
      "metadata": {
        "colab": {
          "background_save": true,
          "base_uri": "https://localhost:8080/"
        },
        "id": "lOSv-_0E7fiu",
        "outputId": "81036f9f-fc0d-4330-be0c-dc3bcdfb3dfe"
      },
      "outputs": [
        {
          "name": "stdout",
          "output_type": "stream",
          "text": [
            "Masukkan 7 folder yang dikunjungi:\n"
          ]
        }
      ],
      "source": [
        "# Definisi Node dalam Doubly Linked List untuk Folder\n",
        "class FolderNode:\n",
        "    def __init__(self, folder_name):\n",
        "        self.folder_name = folder_name  # Menyimpan nama folder\n",
        "        self.next = None  # Pointer ke folder berikutnya\n",
        "        self.prev = None  # Pointer ke folder sebelumnya\n",
        "\n",
        "# Definisi Doubly Linked List untuk Riwayat Navigasi Folder\n",
        "class FolderHistory:\n",
        "    def __init__(self):\n",
        "        self.current = None  # Pointer ke folder yang sedang dibuka\n",
        "\n",
        "    # Menambahkan folder baru ke dalam riwayat\n",
        "    def visit_folder(self, folder_name):\n",
        "        new_folder = FolderNode(folder_name)\n",
        "        if not self.current:\n",
        "            self.current = new_folder  # Jika riwayat kosong, folder pertama menjadi current\n",
        "        else:\n",
        "            new_folder.prev = self.current  # Set prev ke folder sebelumnya\n",
        "            self.current.next = new_folder  # Set next ke folder baru\n",
        "            self.current = new_folder  # Pindahkan current ke folder baru\n",
        "\n",
        "    # Menampilkan riwayat navigasi folder\n",
        "    def show_history(self):\n",
        "        if not self.current:\n",
        "            print(\"\\nRiwayat folder kosong.\")\n",
        "            return\n",
        "        print(\"\\nRiwayat Navigasi Folder:\")\n",
        "        temp = self.current\n",
        "        # Kembali ke folder pertama dalam riwayat\n",
        "        while temp.prev:\n",
        "            temp = temp.prev\n",
        "        # Menampilkan semua folder yang telah dikunjungi\n",
        "        count = 1\n",
        "        while temp:\n",
        "            print(f\"{count}. {temp.folder_name}\")\n",
        "            temp = temp.next\n",
        "            count += 1\n",
        "\n",
        "    # Navigasi ke folder sebelumnya\n",
        "    def go_back(self):\n",
        "        if self.current and self.current.prev:\n",
        "            self.current = self.current.prev\n",
        "            print(f\"\\nAnda kembali ke folder: {self.current.folder_name}\")\n",
        "        else:\n",
        "            print(\"\\nTidak bisa kembali, ini adalah folder pertama!\")\n",
        "\n",
        "    # Navigasi ke folder berikutnya\n",
        "    def go_forward(self):\n",
        "        if self.current and self.current.next:\n",
        "            self.current = self.current.next\n",
        "            print(f\"\\nAnda maju ke folder: {self.current.folder_name}\")\n",
        "        else:\n",
        "            print(\"\\nTidak bisa maju, ini adalah folder terakhir!\")\n",
        "\n",
        "# Program Utama (Main Program)\n",
        "def main():\n",
        "    # Membuat objek riwayat navigasi folder\n",
        "    folder_history = FolderHistory()\n",
        "\n",
        "    # Digit terakhir dari NPM Anda\n",
        "    num_folders = 7  # Ganti sesuai dengan digit terakhir NPM Anda\n",
        "\n",
        "    print(f\"Masukkan {num_folders} folder yang dikunjungi:\")\n",
        "\n",
        "    # Loop untuk memasukkan folder ke dalam Doubly Linked List\n",
        "    for i in range(1, num_folders + 1):\n",
        "        folder_name = input(f\"Masukkan folder ke-{i}: \")\n",
        "        folder_history.visit_folder(folder_name)\n",
        "\n",
        "    # Menampilkan riwayat folder yang telah dikunjungi\n",
        "    folder_history.show_history()\n",
        "\n",
        "    # Menu navigasi pengguna\n",
        "    while True:\n",
        "        command = input(\"\\nTekan 'b' untuk kembali, 'f' untuk maju, atau 'x' untuk keluar.\\nMasukkan perintah: \").lower()\n",
        "\n",
        "        if command == 'b':\n",
        "            folder_history.go_back()\n",
        "        elif command == 'f':\n",
        "            folder_history.go_forward()\n",
        "        elif command == 'x':\n",
        "            print(\"\\nKeluar dari riwayat navigasi folder.\")\n",
        "            break\n",
        "        else:\n",
        "            print(\"Perintah tidak dikenal.\")\n",
        "\n",
        "if __name__ == \"__main__\":\n",
        "    main()\n"
      ]
    },
    {
      "cell_type": "markdown",
      "source": [
        "TUGAS"
      ],
      "metadata": {
        "id": "Zchf7KdKOfV1"
      }
    },
    {
      "cell_type": "code",
      "source": [
        "class SatpamNode:\n",
        "    def __init__(self, name):\n",
        "        self.name = name\n",
        "        self.next = None\n",
        "\n",
        "class JadwalPiket:\n",
        "    def __init__(self):\n",
        "        self.current = None\n",
        "\n",
        "    def tambah_satpam(self, name):\n",
        "        new_satpam = SatpamNode(name)\n",
        "        if not self.current:\n",
        "            self.current = new_satpam\n",
        "            self.current.next = self.current  # Circular\n",
        "        else:\n",
        "            temp = self.current\n",
        "            while temp.next != self.current:\n",
        "                temp = temp.next\n",
        "            temp.next = new_satpam\n",
        "            new_satpam.next = self.current\n",
        "\n",
        "    def cetak_jadwal(self, hari):\n",
        "        if not self.current:\n",
        "            print(\"Jadwal kosong!\")\n",
        "            return\n",
        "\n",
        "        print(\"\\n\\u2B50 Jadwal Piket Satpam Selama 2 Minggu:\")\n",
        "        temp = self.current\n",
        "        for i in range(1, hari + 1):\n",
        "            print(f\"Hari {i}: {temp.name}\")\n",
        "            temp = temp.next\n",
        "\n",
        "# Program Utama\n",
        "jadwal = JadwalPiket()\n",
        "\n",
        "# Memasukkan nama satpam\n",
        "for i in range(1, 5):\n",
        "    nama = input(f\"Masukkan nama satpam ke-{i}: \")\n",
        "    jadwal.tambah_satpam(nama)\n",
        "\n",
        "# Mencetak jadwal piket selama 14 hari\n",
        "jadwal.cetak_jadwal(14)\n"
      ],
      "metadata": {
        "colab": {
          "base_uri": "https://localhost:8080/"
        },
        "id": "pk5faMNMMvJ2",
        "outputId": "382ec8ec-05cd-470d-aade-e81ed94b00d7"
      },
      "execution_count": 2,
      "outputs": [
        {
          "output_type": "stream",
          "name": "stdout",
          "text": [
            "Masukkan nama satpam ke-1: Dio\n",
            "Masukkan nama satpam ke-2: Heru\n",
            "Masukkan nama satpam ke-3: Hamzah\n",
            "Masukkan nama satpam ke-4: Gilang\n",
            "\n",
            "⭐ Jadwal Piket Satpam Selama 2 Minggu:\n",
            "Hari 1: Dio\n",
            "Hari 2: Heru\n",
            "Hari 3: Hamzah\n",
            "Hari 4: Gilang\n",
            "Hari 5: Dio\n",
            "Hari 6: Heru\n",
            "Hari 7: Hamzah\n",
            "Hari 8: Gilang\n",
            "Hari 9: Dio\n",
            "Hari 10: Heru\n",
            "Hari 11: Hamzah\n",
            "Hari 12: Gilang\n",
            "Hari 13: Dio\n",
            "Hari 14: Heru\n"
          ]
        }
      ]
    }
  ],
  "metadata": {
    "colab": {
      "provenance": [],
      "authorship_tag": "ABX9TyNLvCdNsXPSUbVV0RYoZtF6",
      "include_colab_link": true
    },
    "kernelspec": {
      "display_name": "Python 3",
      "name": "python3"
    },
    "language_info": {
      "name": "python"
    }
  },
  "nbformat": 4,
  "nbformat_minor": 0
}